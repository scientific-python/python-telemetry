{
 "cells": [
  {
   "cell_type": "markdown",
   "id": "be520217-e933-4b44-93b5-97c8f90c1969",
   "metadata": {},
   "source": [
    "```\n",
    "OTEL_RESOURCE_ATTRIBUTES=\"service.name=scipy,service.namespace=scientific-python,deployment.environment=production\"\n",
    "OTEL_EXPORTER_OTLP_ENDPOINT=\"https://otlp-gateway-prod-us-west-0.grafana.net/otlp\"\n",
    "OTEL_EXPORTER_OTLP_HEADERS=\"Authorization=Basic%20MTI1Mzk2NjpnbGNfZXlKdklqb2lNVFF5TmpVMk9DSXNJbTRpT2lKemRHRmpheTB4TWpVek9UWTJMVzkwWld3dGIyNWliMkZ5WkdsdVp5MTBaWE4wSWl3aWF5STZJakJ3TjNZeWNqWlhOelZWTUdwVk1scDBWREJ1TUc1VFR5SXNJbTBpT25zaWNpSTZJbkJ5YjJRdGRYTXRkMlZ6ZEMwd0luMTk=\"\n",
    "OTEL_EXPORTER_OTLP_PROTOCOL=\"http/protobuf\"\n",
    "```"
   ]
  },
  {
   "cell_type": "code",
   "execution_count": null,
   "id": "0f8608bd-ed9d-4d08-a721-69d631eb06d1",
   "metadata": {
    "execution": {
     "iopub.execute_input": "2025-05-12T22:18:22.572268Z",
     "iopub.status.busy": "2025-05-12T22:18:22.571254Z",
     "iopub.status.idle": "2025-05-12T22:18:22.767566Z",
     "shell.execute_reply": "2025-05-12T22:18:22.767329Z",
     "shell.execute_reply.started": "2025-05-12T22:18:22.572211Z"
    },
    "scrolled": true
   },
   "outputs": [],
   "source": "from opentelemetry.instrumentation.auto_instrumentation import initialize\n\nfrom telemetric import install\nfrom telemetric.console import setup_console\n\n# Set up which modules should be instrumented\ninstall([\n    \"scipy.stats._correlation\",\n    \"scipy.stats._distn_infrastructure\"\n])\n\n# Set up Grafana Cloud logging\ninitialize()\n\n# Set up Console logging\nsetup_console()"
  },
  {
   "cell_type": "code",
   "execution_count": 2,
   "id": "8abc9c20-3006-4a65-860b-5a66d35e79ec",
   "metadata": {
    "execution": {
     "iopub.execute_input": "2025-05-12T22:18:56.486687Z",
     "iopub.status.busy": "2025-05-12T22:18:56.485500Z",
     "iopub.status.idle": "2025-05-12T22:18:56.945219Z",
     "shell.execute_reply": "2025-05-12T22:18:56.945017Z",
     "shell.execute_reply.started": "2025-05-12T22:18:56.486639Z"
    }
   },
   "outputs": [
    {
     "data": {
      "text/plain": [
       "SignificanceResult(statistic=np.float64(0.4), pvalue=np.float64(0.13362874657719392))"
      ]
     },
     "execution_count": 2,
     "metadata": {},
     "output_type": "execute_result"
    }
   ],
   "source": [
    "from scipy import stats\n",
    "\n",
    "stats.norm.pdf(x=1, loc=1, scale=0.01)\n",
    "stats.norm(loc=1, scale=0.02).pdf(1)\n",
    "\n",
    "stats.chatterjeexi([1, 2, 3, 4], [1.1, 2.2, 3.3, 4.4])"
   ]
  },
  {
   "cell_type": "markdown",
   "id": "c2c86331-a28a-41a8-969d-64969ecc6fa8",
   "metadata": {},
   "source": []
  }
 ],
 "metadata": {
  "kernelspec": {
   "display_name": "Python 3 (ipykernel)",
   "language": "python",
   "name": "python3"
  },
  "language_info": {
   "codemirror_mode": {
    "name": "ipython",
    "version": 3
   },
   "file_extension": ".py",
   "mimetype": "text/x-python",
   "name": "python",
   "nbconvert_exporter": "python",
   "pygments_lexer": "ipython3",
   "version": "3.12.6"
  }
 },
 "nbformat": 4,
 "nbformat_minor": 5
}